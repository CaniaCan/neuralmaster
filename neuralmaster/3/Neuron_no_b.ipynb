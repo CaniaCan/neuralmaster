{
 "cells": [
  {
   "cell_type": "code",
   "execution_count": 8,
   "metadata": {},
   "outputs": [
    {
     "name": "stdout",
     "output_type": "stream",
     "text": [
      "Начальная прямая:  0.4 * X\n",
      "Готовая прямая: y =  2.0562708725692196 * X\n"
     ]
    }
   ],
   "source": [
    "# Инициализируем любым числом коэффициент крутизны наклона прямой\n",
    "A = 0.4\n",
    "A_vis = A # Запоминаем начальное значение крутизны наклона\n",
    "# Вывод данных начальной прямой\n",
    "print('Начальная прямая: ', A, '* X')\n",
    "\n",
    "# Скорость обучения\n",
    "lr = 0.001\n",
    "# Зададим количество эпох\n",
    "epochs = 3000\n",
    "\n",
    "# Создадим массив входных данных x\n",
    "arr_x = [1, 2, 3, 3.5, 4, 6, 7.5, 8.5, 9]\n",
    "# Создадим массив целевых значений (ответы Y)\n",
    "arr_y = [2.4, 4.5, 5.5, 6.4, 8.5, 11.7, 16.1, 16.5, 18.3]\n",
    "\n",
    "# Прогон по выборке\n",
    "for e in range(epochs):\n",
    "    for i in range(len(arr_x)): # len(arr) - функция возвращает длину массива\n",
    "        # Получить x координату точки\n",
    "        x = arr_x[i]\n",
    "        \n",
    "        # Получить расчетную y, координату точки\n",
    "        y = A * x \n",
    "        \n",
    "        # Получить целевую Y, координату точки\n",
    "        target_Y = arr_y[i]\n",
    "\n",
    "        # Ошибка E = целевое значение - выход нейрона\n",
    "        E = target_Y - y\n",
    " \n",
    "        # Меняем коэффициент при x, в соответствии с правилом A+дельтаA = A\n",
    "        A += lr*(E/x)\n",
    "\n",
    "# Вывод данных готовой прямой\n",
    "print('Готовая прямая: y = ', A, '* X')"
   ]
  },
  {
   "cell_type": "code",
   "execution_count": 9,
   "metadata": {},
   "outputs": [
    {
     "data": {
      "image/png": "[encoded data removed]",
      "text/plain": [
       "<matplotlib.figure.Figure at 0x2b67f002e48>"
      ]
     },
     "metadata": {},
     "output_type": "display_data"
    }
   ],
   "source": [
    "import matplotlib.pyplot as plt\n",
    "%matplotlib inline\n",
    "\n",
    "# Функция для отображения входных данных\n",
    "def func_data(y_data):\n",
    "    return [y_data[i] for i in range(len(y_data))]\n",
    "\n",
    "# Функция для отображения начальной прямой\n",
    "def func_begin(x_begin):\n",
    "    return [A_vis*i for i in x_begin]\n",
    "\n",
    "# Функция для отображения готовой прямой\n",
    "def func(x):\n",
    "    return [A*i for i in x]\n",
    "\n",
    "# Значения по X входных данных \n",
    "x_data = arr_x\n",
    "\n",
    "# Значения по X начальной прямой (диапазон значений) \n",
    "x_begin = [i for i in range(0, 11)]\n",
    "\n",
    "# Значения по X готовой прямой (диапазон значений) \n",
    "x = [i for i in range(0, 11)]\n",
    "#x = np.arange(0,11,1)\n",
    "\n",
    "# Значения по Y входных данных\n",
    "y_data = func_data(arr_y)\n",
    "\n",
    "# Значения по Y начальной прямой\n",
    "y_begin = func_begin(x_begin)\n",
    "\n",
    "# Значения по Y готовой прямой\n",
    "y = func(x)\n",
    "\n",
    "# Зададим имена графику и числовым координатам\n",
    "plt.title(\"Neuron\")\n",
    "plt.xlabel(\"X\")\n",
    "plt.ylabel(\"Y\")\n",
    "\n",
    "# Зададим имена входным данным и прямым \n",
    "plt.plot(x,y, label='Входные данные', color = 'g') \n",
    "plt.plot(x,y, label='Готовая прямая', color = 'r')\n",
    "plt.plot(x,y, label='Начальная прямая', color = 'b') \n",
    "plt.legend(loc=2) #loc - локация имени, 2 - справа в углу\n",
    "\n",
    "# представляем точки данных (х,у) кружочками диаметра 10\n",
    "plt.scatter(x_data, y_data, color ='g', s=10) \n",
    "# Начальная прямая\n",
    "plt.plot(x_begin, y_begin, 'b')\n",
    "# Готовая прямая\n",
    "plt.plot(x, y, 'r') \n",
    "# Сетка на фоне для улучшения восприятия\n",
    "plt.grid(True, linestyle='-', color='0.75')\n",
    "# Показать график \n",
    "plt.show()"
   ]
  },
  {
   "cell_type": "code",
   "execution_count": 11,
   "metadata": {},
   "outputs": [
    {
     "name": "stdout",
     "output_type": "stream",
     "text": [
      "Введите значение ширины Х: 4\n",
      "Введите значение высоты Y: 15\n",
      "Это жираф!\n"
     ]
    }
   ],
   "source": [
    "x = input(\"Введите значение ширины Х: \")\n",
    "x = int(x)\n",
    "T = input(\"Введите значение высоты Y: \")\n",
    "T = int(T)\n",
    "y = A * x \n",
    "\n",
    "# Условие\n",
    "if T > y:\n",
    "    print('Это жираф!')\n",
    "else:\n",
    "    print('Это крокодил!')"
   ]
  },
  {
   "cell_type": "code",
   "execution_count": null,
   "metadata": {
    "collapsed": true
   },
   "outputs": [],
   "source": []
  }
 ],
 "metadata": {
  "kernelspec": {
   "display_name": "Python 3",
   "language": "python",
   "name": "python3"
  },
  "language_info": {
   "codemirror_mode": {
    "name": "ipython",
    "version": 3
   },
   "file_extension": ".py",
   "mimetype": "text/x-python",
   "name": "python",
   "nbconvert_exporter": "python",
   "pygments_lexer": "ipython3",
   "version": "3.6.3"
  }
 },
 "nbformat": 4,
 "nbformat_minor": 2
}
